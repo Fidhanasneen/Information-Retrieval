{
  "nbformat": 4,
  "nbformat_minor": 0,
  "metadata": {
    "colab": {
      "provenance": [],
      "collapsed_sections": []
    },
    "kernelspec": {
      "name": "python3",
      "display_name": "Python 3"
    },
    "language_info": {
      "name": "python"
    }
  },
  "cells": [
    {
      "cell_type": "code",
      "execution_count": 1,
      "metadata": {
        "id": "HXE77gY1zZS_",
        "colab": {
          "base_uri": "https://localhost:8080/"
        },
        "outputId": "edb6adcf-294c-4d12-f086-d8000c5301b2"
      },
      "outputs": [
        {
          "output_type": "stream",
          "name": "stderr",
          "text": [
            "[nltk_data] Downloading package stopwords to /root/nltk_data...\n",
            "[nltk_data]   Unzipping corpora/stopwords.zip.\n"
          ]
        }
      ],
      "source": [
        "import nltk\n",
        "nltk.download('stopwords')\n",
        "from nltk.corpus import stopwords"
      ]
    },
    {
      "cell_type": "code",
      "source": [
        "Stopwords = set(stopwords.words('english'))"
      ],
      "metadata": {
        "id": "BMy9EUTDV5hb"
      },
      "execution_count": 2,
      "outputs": []
    },
    {
      "cell_type": "code",
      "source": [
        "nltk.download('gutenberg')\n",
        "nltk.corpus.gutenberg.fileids()"
      ],
      "metadata": {
        "colab": {
          "base_uri": "https://localhost:8080/"
        },
        "id": "dUJLRucCPPhF",
        "outputId": "2d5b0f8b-b9c2-4a65-9f84-be0508d5baf7"
      },
      "execution_count": 3,
      "outputs": [
        {
          "output_type": "stream",
          "name": "stderr",
          "text": [
            "[nltk_data] Downloading package gutenberg to /root/nltk_data...\n",
            "[nltk_data]   Unzipping corpora/gutenberg.zip.\n"
          ]
        },
        {
          "output_type": "execute_result",
          "data": {
            "text/plain": [
              "['austen-emma.txt',\n",
              " 'austen-persuasion.txt',\n",
              " 'austen-sense.txt',\n",
              " 'bible-kjv.txt',\n",
              " 'blake-poems.txt',\n",
              " 'bryant-stories.txt',\n",
              " 'burgess-busterbrown.txt',\n",
              " 'carroll-alice.txt',\n",
              " 'chesterton-ball.txt',\n",
              " 'chesterton-brown.txt',\n",
              " 'chesterton-thursday.txt',\n",
              " 'edgeworth-parents.txt',\n",
              " 'melville-moby_dick.txt',\n",
              " 'milton-paradise.txt',\n",
              " 'shakespeare-caesar.txt',\n",
              " 'shakespeare-hamlet.txt',\n",
              " 'shakespeare-macbeth.txt',\n",
              " 'whitman-leaves.txt']"
            ]
          },
          "metadata": {},
          "execution_count": 3
        }
      ]
    },
    {
      "cell_type": "code",
      "source": [
        "from nltk.corpus import gutenberg\n",
        "files = gutenberg.fileids()"
      ],
      "metadata": {
        "id": "QE-E-2RGO-2o"
      },
      "execution_count": 4,
      "outputs": []
    },
    {
      "cell_type": "code",
      "source": [
        "from nltk.tokenize import word_tokenize\n",
        "import numpy as np\n",
        "import sys"
      ],
      "metadata": {
        "id": "3WN2xS50Vh0S"
      },
      "execution_count": 5,
      "outputs": []
    },
    {
      "cell_type": "code",
      "source": [
        "dict_global = {}\n",
        "idx = 1\n",
        "files_with_index = {}\n",
        "\n",
        "for file in files:\n",
        "    words = gutenberg.words(file)\n",
        "    words = list(words)\n",
        "    words = [word for word in words if len(words)>1]\n",
        "    words = [word.lower() for word in words]\n",
        "    words = [word for word in words if word not in Stopwords]\n",
        "    dict_global.update(nltk.FreqDist(words))\n",
        "    files_with_index[idx] = file\n",
        "    idx = idx + 1\n",
        "    \n",
        "unique_words_all = set(dict_global.keys())"
      ],
      "metadata": {
        "id": "__wroOg4WKjH"
      },
      "execution_count": 6,
      "outputs": []
    },
    {
      "cell_type": "code",
      "source": [
        "class Node:\n",
        "    def __init__(self ,docId, freq = None):\n",
        "        self.freq = freq\n",
        "        self.doc = docId\n",
        "        self.nextval = None\n",
        "    \n",
        "class SlinkedList:\n",
        "    def __init__(self ,head = None):\n",
        "        self.head = head"
      ],
      "metadata": {
        "id": "ElERSkJDiojI"
      },
      "execution_count": 7,
      "outputs": []
    },
    {
      "cell_type": "code",
      "source": [
        "linked_list_data = {}\n",
        "for word in unique_words_all:\n",
        "    linked_list_data[word] = SlinkedList()\n",
        "    linked_list_data[word].head = Node(1,Node)\n",
        "word_freq_in_doc = {}\n",
        "idx = 1\n",
        "for file in files:\n",
        "    words = gutenberg.words(file)\n",
        "    words = list(words)\n",
        "    words = [word for word in words if len(words)>1]\n",
        "    words = [word.lower() for word in words]\n",
        "    words = [word for word in words if word not in Stopwords]\n",
        "    word_freq_in_doc = nltk.FreqDist(words)\n",
        "    for word in word_freq_in_doc.keys():\n",
        "        linked_list = linked_list_data[word].head\n",
        "        while linked_list.nextval is not None:\n",
        "            linked_list = linked_list.nextval\n",
        "        linked_list.nextval = Node(idx ,word_freq_in_doc[word])\n",
        "    idx = idx + 1"
      ],
      "metadata": {
        "id": "xwYl7FtdixVr"
      },
      "execution_count": 8,
      "outputs": []
    },
    {
      "cell_type": "code",
      "source": [
        "nltk.download('punkt')\n",
        "query = input('Enter your query:')\n",
        "query = word_tokenize(query)\n",
        "connecting_words = []\n",
        "cnt = 1\n",
        "different_words = []\n",
        "for word in query:\n",
        "    if word.lower() != \"and\" and word.lower() != \"or\" and word.lower() != \"not\":\n",
        "        different_words.append(word.lower())\n",
        "    else:\n",
        "        connecting_words.append(word.lower())\n",
        "print(connecting_words)\n",
        "total_files = len(files_with_index)\n",
        "zeroes_and_ones = []\n",
        "zeroes_and_ones_of_all_words = []\n",
        "for word in (different_words):\n",
        "    if word.lower() in unique_words_all:\n",
        "        zeroes_and_ones = [0] * total_files\n",
        "        linkedlist = linked_list_data[word].head\n",
        "        print(word)\n",
        "        while linkedlist.nextval is not None:\n",
        "            zeroes_and_ones[linkedlist.nextval.doc - 1] = 1\n",
        "            linkedlist = linkedlist.nextval\n",
        "        zeroes_and_ones_of_all_words.append(zeroes_and_ones)\n",
        "    else:\n",
        "        print(word,\" not found\")\n",
        "        sys.exit()\n",
        "print(zeroes_and_ones_of_all_words)\n",
        "for word in connecting_words:\n",
        "    word_list1 = zeroes_and_ones_of_all_words[0]\n",
        "    word_list2 = zeroes_and_ones_of_all_words[1]\n",
        "    if word == \"and\":\n",
        "        bitwise_op = [w1 & w2 for (w1,w2) in zip(word_list1,word_list2)]\n",
        "        zeroes_and_ones_of_all_words.remove(word_list1)\n",
        "        zeroes_and_ones_of_all_words.remove(word_list2)\n",
        "        zeroes_and_ones_of_all_words.insert(0, bitwise_op);\n",
        "    elif word == \"not\":\n",
        "        bitwise_op = [not w1 for w1 in word_list2]\n",
        "        bitwise_op = [int(b == True) for b in bitwise_op]\n",
        "        zeroes_and_ones_of_all_words.remove(word_list2)\n",
        "        zeroes_and_ones_of_all_words.remove(word_list1)\n",
        "        bitwise_op = [w1 & w2 for (w1,w2) in zip(word_list1,bitwise_op)]\n",
        "zeroes_and_ones_of_all_words.insert(0, bitwise_op);\n",
        "        \n",
        "files = []    \n",
        "print(zeroes_and_ones_of_all_words)\n",
        "lis = zeroes_and_ones_of_all_words[0]\n",
        "cnt = 1\n",
        "for index in lis:\n",
        "    if index == 1:\n",
        "        files.append(files_with_index[cnt])\n",
        "    cnt = cnt+1\n",
        "    \n",
        "print(files)"
      ],
      "metadata": {
        "colab": {
          "base_uri": "https://localhost:8080/"
        },
        "id": "NiRQD8-ejVVc",
        "outputId": "56094567-cff3-4417-9faa-9d431c75f60a"
      },
      "execution_count": 9,
      "outputs": [
        {
          "output_type": "stream",
          "name": "stderr",
          "text": [
            "[nltk_data] Downloading package punkt to /root/nltk_data...\n",
            "[nltk_data]   Unzipping tokenizers/punkt.zip.\n"
          ]
        },
        {
          "output_type": "stream",
          "name": "stdout",
          "text": [
            "Enter your query:peas and sea\n",
            "['and']\n",
            "peas\n",
            "sea\n",
            "[[0, 0, 0, 0, 0, 1, 0, 0, 0, 0, 0, 1, 0, 0, 0, 0, 0, 0], [1, 1, 0, 1, 1, 1, 0, 1, 1, 1, 1, 1, 1, 1, 1, 1, 1, 1]]\n",
            "[[0, 0, 0, 0, 0, 1, 0, 0, 0, 0, 0, 1, 0, 0, 0, 0, 0, 0], [0, 0, 0, 0, 0, 1, 0, 0, 0, 0, 0, 1, 0, 0, 0, 0, 0, 0]]\n",
            "['bryant-stories.txt', 'edgeworth-parents.txt']\n"
          ]
        }
      ]
    },
    {
      "cell_type": "code",
      "source": [],
      "metadata": {
        "id": "Wz2CqvgekPQ9"
      },
      "execution_count": 9,
      "outputs": []
    }
  ]
}